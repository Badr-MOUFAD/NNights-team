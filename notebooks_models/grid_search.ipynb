{
 "cells": [
  {
   "cell_type": "code",
   "execution_count": 1,
   "metadata": {},
   "outputs": [
    {
     "data": {
      "text/plain": [
       "'c:\\\\Users\\\\HP\\\\Desktop\\\\flight-comptetion\\\\NNights-team'"
      ]
     },
     "execution_count": 1,
     "metadata": {},
     "output_type": "execute_result"
    }
   ],
   "source": [
    "import os \n",
    "\n",
    "os.chdir(\"../\")\n",
    "os.getcwd()"
   ]
  },
  {
   "cell_type": "code",
   "execution_count": 2,
   "metadata": {},
   "outputs": [],
   "source": [
    "# imports\n",
    "import numpy as np\n",
    "import pandas as pd\n",
    "\n",
    "from sklearn.ensemble import (RandomForestRegressor, ExtraTreesRegressor, \n",
    "                              GradientBoostingRegressor, AdaBoostRegressor)\n",
    "from sklearn.model_selection import (GridSearchCV, \n",
    "                                     train_test_split, cross_val_score)"
   ]
  },
  {
   "cell_type": "code",
   "execution_count": 3,
   "metadata": {},
   "outputs": [],
   "source": [
    "# load data\n",
    "flights = pd.read_csv(\"data/flights_enriched_full.csv\")"
   ]
  },
  {
   "cell_type": "code",
   "execution_count": 4,
   "metadata": {},
   "outputs": [
    {
     "name": "stdout",
     "output_type": "stream",
     "text": [
      "<class 'pandas.core.frame.DataFrame'>\n",
      "RangeIndex: 8896 entries, 0 to 8895\n",
      "Data columns (total 46 columns):\n",
      " #   Column                                            Non-Null Count  Dtype  \n",
      "---  ------                                            --------------  -----  \n",
      " 0   flight_date                                       8896 non-null   object \n",
      " 1   from                                              8896 non-null   object \n",
      " 2   to                                                8896 non-null   object \n",
      " 3   avg_weeks                                         8896 non-null   float64\n",
      " 4   target                                            8896 non-null   float64\n",
      " 5   std_weeks                                         8896 non-null   float64\n",
      " 6   is_holiday                                        8896 non-null   bool   \n",
      " 7   day_of_year                                       8896 non-null   int64  \n",
      " 8   distance_to_New Year's Day                        8896 non-null   int64  \n",
      " 9   distance_to_Birthday of Martin Luther King, Jr.   8896 non-null   int64  \n",
      " 10  distance_to_Washington's Birthday                 8896 non-null   int64  \n",
      " 11  distance_to_Memorial Day                          8896 non-null   int64  \n",
      " 12  distance_to_Juneteenth National Independence Day  8896 non-null   int64  \n",
      " 13  distance_to_Independence Day                      8896 non-null   int64  \n",
      " 14  distance_to_Labor Day                             8896 non-null   int64  \n",
      " 15  distance_to_Columbus Day                          8896 non-null   int64  \n",
      " 16  distance_to_Veterans Day                          8896 non-null   int64  \n",
      " 17  distance_to_Thanksgiving Day                      8896 non-null   int64  \n",
      " 18  distance_to_Christmas Day                         8896 non-null   int64  \n",
      " 19  distance_to_next_holiday                          8896 non-null   int64  \n",
      " 20  distance_to_previous_holiday                      8896 non-null   int64  \n",
      " 21  path_distance                                     8896 non-null   float64\n",
      " 22  from_in_degree                                    8896 non-null   float64\n",
      " 23  from_out_degree                                   8896 non-null   float64\n",
      " 24  to_in_degree                                      8896 non-null   float64\n",
      " 25  to_out_degree                                     8896 non-null   float64\n",
      " 26  ATL                                               8896 non-null   int64  \n",
      " 27  BOS                                               8896 non-null   int64  \n",
      " 28  CLT                                               8896 non-null   int64  \n",
      " 29  DEN                                               8896 non-null   int64  \n",
      " 30  DFW                                               8896 non-null   int64  \n",
      " 31  DTW                                               8896 non-null   int64  \n",
      " 32  EWR                                               8896 non-null   int64  \n",
      " 33  IAH                                               8896 non-null   int64  \n",
      " 34  JFK                                               8896 non-null   int64  \n",
      " 35  LAS                                               8896 non-null   int64  \n",
      " 36  LAX                                               8896 non-null   int64  \n",
      " 37  LGA                                               8896 non-null   int64  \n",
      " 38  MCO                                               8896 non-null   int64  \n",
      " 39  MIA                                               8896 non-null   int64  \n",
      " 40  MSP                                               8896 non-null   int64  \n",
      " 41  ORD                                               8896 non-null   int64  \n",
      " 42  PHL                                               8896 non-null   int64  \n",
      " 43  PHX                                               8896 non-null   int64  \n",
      " 44  SEA                                               8896 non-null   int64  \n",
      " 45  SFO                                               8896 non-null   int64  \n",
      "dtypes: bool(1), float64(8), int64(34), object(3)\n",
      "memory usage: 3.1+ MB\n"
     ]
    }
   ],
   "source": [
    "flights.info()"
   ]
  },
  {
   "cell_type": "code",
   "execution_count": 5,
   "metadata": {},
   "outputs": [],
   "source": [
    "# select cols\n",
    "useless_cols = [\"ATL\", \"BOS\", \"CLT\", \"DEN\", \"DFW\", \n",
    "                \"DTW\", \"EWR\", \"IAH\", \"JFK\", \"LAS\", \"LAX\", \"LGA\", \n",
    "                \"MCO\", \"MIA\", \"MSP\", \"ORD\", \"PHL\", \"PHX\", \"SEA\", \"SFO\",\n",
    "                \"from\", \"to\", \"flight_date\", \"target\"]\n",
    "\n",
    "y = flights[\"target\"]\n",
    "X = flights.drop(labels=useless_cols, axis=1)\n",
    "\n",
    "# split df\n",
    "X_train, X_test, y_train, y_test = train_test_split(X, y, test_size=.2, random_state=12654789)"
   ]
  },
  {
   "cell_type": "code",
   "execution_count": 6,
   "metadata": {},
   "outputs": [],
   "source": [
    "# search_area = {\n",
    "#     'nb_trees': (30, 200),\n",
    "#     # 'max_depth': (7, 20), \n",
    "#     'min_samples_split': (0, 0.1),\n",
    "#     'min_samples_leaf': (0, 0.1),\n",
    "#     'ccp_alpha': (0, 0.1)\n",
    "# }\n",
    "\n",
    "search_area = {\n",
    "    'max_depth': np.arange(7, 15),\n",
    "    # 'learning_rate': [0.01, 0.1],\n",
    "    # 'loss': ['squared_error', 'absolute_error']\n",
    "}"
   ]
  },
  {
   "cell_type": "code",
   "execution_count": 7,
   "metadata": {},
   "outputs": [],
   "source": [
    "regressor = GradientBoostingRegressor()\n",
    "\n",
    "grid_search = GridSearchCV(\n",
    "    regressor,\n",
    "    param_grid=search_area,\n",
    "    scoring=\"neg_root_mean_squared_error\",\n",
    "    cv=10,\n",
    "    return_train_score=True,\n",
    "    n_jobs=6,\n",
    "    verbose=2\n",
    ")"
   ]
  },
  {
   "cell_type": "code",
   "execution_count": 8,
   "metadata": {},
   "outputs": [
    {
     "name": "stdout",
     "output_type": "stream",
     "text": [
      "Fitting 10 folds for each of 8 candidates, totalling 80 fits\n"
     ]
    },
    {
     "data": {
      "text/plain": [
       "GridSearchCV(cv=10, estimator=GradientBoostingRegressor(), n_jobs=6,\n",
       "             param_grid={'max_depth': array([ 7,  8,  9, 10, 11, 12, 13, 14])},\n",
       "             return_train_score=True, scoring='neg_root_mean_squared_error',\n",
       "             verbose=2)"
      ]
     },
     "execution_count": 8,
     "metadata": {},
     "output_type": "execute_result"
    }
   ],
   "source": [
    "grid_search.fit(X_train, y_train)"
   ]
  },
  {
   "cell_type": "code",
   "execution_count": 9,
   "metadata": {},
   "outputs": [
    {
     "name": "stdout",
     "output_type": "stream",
     "text": [
      "-0.567780388136899\n",
      "{'max_depth': 8}\n"
     ]
    }
   ],
   "source": [
    "print(grid_search.best_score_)\n",
    "print(grid_search.best_params_)"
   ]
  },
  {
   "cell_type": "code",
   "execution_count": 10,
   "metadata": {},
   "outputs": [
    {
     "name": "stdout",
     "output_type": "stream",
     "text": [
      "0.33548398886694747\n",
      "0.1262584644895479\n"
     ]
    }
   ],
   "source": [
    "from sklearn.metrics import mean_squared_error\n",
    "\n",
    "pred_train = grid_search.best_estimator_.predict(X_train)\n",
    "pred_test = grid_search.best_estimator_.predict(X_test)\n",
    "\n",
    "print(mean_squared_error(y_test, pred_test))\n",
    "print(mean_squared_error(y_train, pred_train))"
   ]
  },
  {
   "cell_type": "code",
   "execution_count": 11,
   "metadata": {},
   "outputs": [
    {
     "data": {
      "text/plain": [
       "{'mean_fit_time': array([ 9.07272029, 10.47867959, 13.31108549, 12.62085695, 12.62578714,\n",
       "        14.10835447, 15.63107207, 16.39026968]),\n",
       " 'std_fit_time': array([0.88832445, 0.58867942, 0.69452517, 1.05408017, 0.23937099,\n",
       "        0.39694719, 0.3022611 , 2.03791818]),\n",
       " 'mean_score_time': array([0.01555867, 0.00987313, 0.01196792, 0.01499093, 0.01416228,\n",
       "        0.01396251, 0.01396284, 0.01595695]),\n",
       " 'std_score_time': array([0.00195479, 0.00397527, 0.00558826, 0.00398604, 0.00413152,\n",
       "        0.00430126, 0.00463498, 0.00655523]),\n",
       " 'param_max_depth': masked_array(data=[7, 8, 9, 10, 11, 12, 13, 14],\n",
       "              mask=[False, False, False, False, False, False, False, False],\n",
       "        fill_value='?',\n",
       "             dtype=object),\n",
       " 'params': [{'max_depth': 7},\n",
       "  {'max_depth': 8},\n",
       "  {'max_depth': 9},\n",
       "  {'max_depth': 10},\n",
       "  {'max_depth': 11},\n",
       "  {'max_depth': 12},\n",
       "  {'max_depth': 13},\n",
       "  {'max_depth': 14}],\n",
       " 'split0_test_score': array([-0.54825961, -0.53933413, -0.55976235, -0.57286682, -0.57531303,\n",
       "        -0.58932247, -0.63242437, -0.66326113]),\n",
       " 'split1_test_score': array([-0.55175546, -0.55293841, -0.55599643, -0.56829192, -0.59202539,\n",
       "        -0.60155815, -0.64769915, -0.65703446]),\n",
       " 'split2_test_score': array([-0.56740153, -0.55080648, -0.56603307, -0.57690367, -0.60677857,\n",
       "        -0.63176275, -0.66117026, -0.68008741]),\n",
       " 'split3_test_score': array([-0.5915974 , -0.59015775, -0.59329407, -0.5876461 , -0.61679963,\n",
       "        -0.64201811, -0.67995446, -0.71277546]),\n",
       " 'split4_test_score': array([-0.56595948, -0.56984109, -0.58445691, -0.60774523, -0.62089214,\n",
       "        -0.63523387, -0.63729932, -0.68315821]),\n",
       " 'split5_test_score': array([-0.54554407, -0.54806512, -0.54385155, -0.55365562, -0.56709756,\n",
       "        -0.59755029, -0.61928045, -0.64606477]),\n",
       " 'split6_test_score': array([-0.55743353, -0.55982007, -0.57379594, -0.59697525, -0.61587473,\n",
       "        -0.62709795, -0.66169435, -0.67953982]),\n",
       " 'split7_test_score': array([-0.59258598, -0.58992719, -0.61517185, -0.6103295 , -0.62403688,\n",
       "        -0.66497172, -0.69152456, -0.72800781]),\n",
       " 'split8_test_score': array([-0.59721299, -0.59661245, -0.60092831, -0.6112891 , -0.6398498 ,\n",
       "        -0.66921476, -0.72103562, -0.7682757 ]),\n",
       " 'split9_test_score': array([-0.58832262, -0.5803012 , -0.58118482, -0.59680155, -0.6145996 ,\n",
       "        -0.62877762, -0.66454351, -0.70875453]),\n",
       " 'mean_test_score': array([-0.57060727, -0.56778039, -0.57744753, -0.58825048, -0.60732673,\n",
       "        -0.62875077, -0.66166261, -0.69269593]),\n",
       " 'std_test_score': array([0.01906239, 0.01937312, 0.02081805, 0.01873091, 0.02148114,\n",
       "        0.02539025, 0.02863511, 0.03515101]),\n",
       " 'rank_test_score': array([2, 1, 3, 4, 5, 6, 7, 8]),\n",
       " 'split0_train_score': array([-0.40165553, -0.34357381, -0.28352096, -0.23319422, -0.18422202,\n",
       "        -0.1429538 , -0.11328929, -0.06437826]),\n",
       " 'split1_train_score': array([-0.39594566, -0.33993743, -0.28226723, -0.23296541, -0.19278778,\n",
       "        -0.13295039, -0.10800666, -0.07130568]),\n",
       " 'split2_train_score': array([-0.40207094, -0.34442962, -0.30558005, -0.24215559, -0.18287696,\n",
       "        -0.1421452 , -0.10319798, -0.07420255]),\n",
       " 'split3_train_score': array([-0.398445  , -0.33986038, -0.27556429, -0.22182673, -0.18152623,\n",
       "        -0.13201867, -0.10257185, -0.069414  ]),\n",
       " 'split4_train_score': array([-0.40109793, -0.32974978, -0.28145647, -0.23849904, -0.19138354,\n",
       "        -0.14278668, -0.1092514 , -0.06639663]),\n",
       " 'split5_train_score': array([-0.39185123, -0.34557645, -0.28059983, -0.23847164, -0.18052406,\n",
       "        -0.14494681, -0.11143765, -0.07445355]),\n",
       " 'split6_train_score': array([-0.40583624, -0.34623322, -0.29497179, -0.22414484, -0.18195917,\n",
       "        -0.14667548, -0.10993698, -0.07362031]),\n",
       " 'split7_train_score': array([-0.38973798, -0.33941762, -0.29018069, -0.21090392, -0.17643996,\n",
       "        -0.1395858 , -0.09735245, -0.06668958]),\n",
       " 'split8_train_score': array([-0.40938137, -0.34246088, -0.28117418, -0.22699348, -0.1828387 ,\n",
       "        -0.13233384, -0.09627233, -0.07119717]),\n",
       " 'split9_train_score': array([-0.39517179, -0.33998111, -0.28216009, -0.21736161, -0.18755865,\n",
       "        -0.13850532, -0.10622591, -0.07022539]),\n",
       " 'mean_train_score': array([-0.39911937, -0.34112203, -0.28574756, -0.22865165, -0.18421171,\n",
       "        -0.1394902 , -0.10575425, -0.07018831]),\n",
       " 'std_train_score': array([0.00580026, 0.00448598, 0.00835185, 0.00962856, 0.00475539,\n",
       "        0.00511958, 0.0054887 , 0.00330646])}"
      ]
     },
     "execution_count": 11,
     "metadata": {},
     "output_type": "execute_result"
    }
   ],
   "source": [
    "grid_search.cv_results_"
   ]
  }
 ],
 "metadata": {
  "interpreter": {
   "hash": "1e915f0a29dc84041eaeb02b7b1a21c440e37a87b61d44d5e84a515737dc82bc"
  },
  "kernelspec": {
   "display_name": "Python 3.8.5 64-bit ('base': conda)",
   "language": "python",
   "name": "python3"
  },
  "language_info": {
   "codemirror_mode": {
    "name": "ipython",
    "version": 3
   },
   "file_extension": ".py",
   "mimetype": "text/x-python",
   "name": "python",
   "nbconvert_exporter": "python",
   "pygments_lexer": "ipython3",
   "version": "3.8.5"
  },
  "orig_nbformat": 4
 },
 "nbformat": 4,
 "nbformat_minor": 2
}

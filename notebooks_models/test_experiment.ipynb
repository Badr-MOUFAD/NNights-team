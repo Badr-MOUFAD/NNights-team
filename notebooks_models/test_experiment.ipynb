{
 "cells": [
  {
   "cell_type": "code",
   "execution_count": 1,
   "metadata": {},
   "outputs": [
    {
     "data": {
      "text/plain": [
       "'c:\\\\Users\\\\HP\\\\Desktop\\\\flight-comptetion\\\\NNights-team'"
      ]
     },
     "execution_count": 1,
     "metadata": {},
     "output_type": "execute_result"
    }
   ],
   "source": [
    "# \n",
    "import os\n",
    "\n",
    "os.chdir(\"../\")\n",
    "os.getcwd()"
   ]
  },
  {
   "cell_type": "code",
   "execution_count": 2,
   "metadata": {},
   "outputs": [
    {
     "name": "stdout",
     "output_type": "stream",
     "text": [
      "-- Enrich start ------------- \n",
      "add_day_of_year  ...\n",
      "add_distance_to_next_holiday  ...\n",
      "add_distance_to_previous_holiday  ...\n",
      "special_loc_encoding  ...\n",
      "-- Model start -------------\n",
      "x_columns :  ['avg_weeks', 'std_weeks', 'day_of_year', 'distance_to_next_holiday', 'distance_to_previous_holiday', 'ATL', 'BOS', 'CLT', 'DEN', 'DFW', 'DTW', 'EWR', 'IAH', 'JFK', 'LAS', 'LAX', 'LGA', 'MCO', 'MIA', 'MSP', 'ORD', 'PHL', 'PHX', 'SEA', 'SFO']\n",
      "> cv results : \n",
      "   train-rmse-mean  train-rmse-std  test-rmse-mean  test-rmse-std\n",
      "0         7.473315        0.001597        7.473448       0.020091\n",
      "1         5.271191        0.001393        5.272197       0.019950\n",
      "2         3.740035        0.001037        3.743168       0.017188\n",
      "3         2.681529        0.002038        2.687121       0.014539\n",
      "4         1.958662        0.002079        1.967298       0.015574\n",
      "5         1.473930        0.002225        1.488089       0.015422\n",
      "6         1.157061        0.003859        1.177773       0.013099\n",
      "7         0.956650        0.005799        0.983052       0.013199\n",
      "8         0.831760        0.008746        0.865962       0.014106\n",
      "9         0.758782        0.006160        0.799017       0.018156\n",
      "> fit model ...\n",
      "model : XGBRegressor(base_score=None, booster=None, colsample_bylevel=None,\n",
      "             colsample_bynode=None, colsample_bytree=None,\n",
      "             enable_categorical=False, gamma=None, gpu_id=None,\n",
      "             importance_type=None, interaction_constraints=None,\n",
      "             learning_rate=None, max_delta_step=None, max_depth=None,\n",
      "             min_child_weight=None, missing=nan, monotone_constraints=None,\n",
      "             n_estimators=100, n_jobs=None, num_parallel_tree=None,\n",
      "             predictor=None, random_state=None, reg_alpha=None, reg_lambda=None,\n",
      "             scale_pos_weight=None, subsample=None, tree_method=None,\n",
      "             validate_parameters=None, verbosity=None)\n",
      "> score model ...\n",
      "Mean Absolute Error (on train) : 0.09823531931165358\n",
      "Mean Absolute Error (on validation) : 0.27592412370276975\n",
      "--Feat imporance  ...\n",
      " \n"
     ]
    },
    {
     "data": {
      "image/png": "[encoded data removed]",
      "text/plain": [
       "<Figure size 432x288 with 1 Axes>"
      ]
     },
     "metadata": {
      "needs_background": "light"
     },
     "output_type": "display_data"
    }
   ],
   "source": [
    "# test\n",
    "import pandas as pd\n",
    "from nnights.experiment import Experiment\n",
    "\n",
    "\n",
    "data_train = pd.read_csv('data/flights_train.csv')\n",
    "# init exp\n",
    "exp = Experiment(name='special_encoding', data=data_train)\n",
    "\n",
    "config = {'enrich': ['add_day_of_year', 'add_distance_to_next_holiday', 'add_distance_to_previous_holiday', 'special_loc_encoding'],\n",
    "          'model': {'model_params': {'objective': 'reg:squarederror'},\n",
    "                    'train_params': {'use_cv': True}},\n",
    "          'x_columns': ['avg_weeks', 'std_weeks']}\n",
    "\n",
    "# run exp\n",
    "exp.run(config)\n",
    "# or if enriched run instead exp.run(config,use_cache=True)\n",
    "\n",
    "\n",
    "# store exp data\n",
    "X_data = pd.read_csv(\"data/flights_Xtest.csv\")"
   ]
  },
  {
   "cell_type": "code",
   "execution_count": 3,
   "metadata": {},
   "outputs": [
    {
     "name": "stdout",
     "output_type": "stream",
     "text": [
      "Successfully created the directory submissions/special_encoding \n",
      "add_day_of_year  ...\n",
      "add_distance_to_next_holiday  ...\n",
      "add_distance_to_previous_holiday  ...\n",
      "special_loc_encoding  ...\n",
      "[11.5729265 10.930938  11.450352  11.567583  11.285209 ]\n",
      "generate submission  submissions/special_encoding/submission.csv\n"
     ]
    }
   ],
   "source": [
    "exp.freeze(\n",
    "    path=\"submissions\", \n",
    "    X_data=X_data,\n",
    "    with_sub=True\n",
    ")"
   ]
  },
  {
   "cell_type": "code",
   "execution_count": null,
   "metadata": {},
   "outputs": [],
   "source": []
  }
 ],
 "metadata": {
  "interpreter": {
   "hash": "1e915f0a29dc84041eaeb02b7b1a21c440e37a87b61d44d5e84a515737dc82bc"
  },
  "kernelspec": {
   "display_name": "Python 3.8.5 64-bit ('base': conda)",
   "language": "python",
   "name": "python3"
  },
  "language_info": {
   "codemirror_mode": {
    "name": "ipython",
    "version": 3
   },
   "file_extension": ".py",
   "mimetype": "text/x-python",
   "name": "python",
   "nbconvert_exporter": "python",
   "pygments_lexer": "ipython3",
   "version": "3.8.5"
  },
  "orig_nbformat": 4
 },
 "nbformat": 4,
 "nbformat_minor": 2
}

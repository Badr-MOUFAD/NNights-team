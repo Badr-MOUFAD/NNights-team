{
 "cells": [
  {
   "cell_type": "code",
   "execution_count": null,
   "metadata": {},
   "outputs": [],
   "source": [
    "import pandas as pd\n",
    "import numpy as np\n",
    "import matplotlib.pyplot as plt\n",
    "import seaborn as sns\n",
    "\n",
    "import plotly.graph_objects as go"
   ]
  },
  {
   "cell_type": "code",
   "execution_count": null,
   "metadata": {},
   "outputs": [],
   "source": [
    "data= pd.read_csv('../data/flights_train.csv')"
   ]
  },
  {
   "cell_type": "code",
   "execution_count": null,
   "metadata": {},
   "outputs": [],
   "source": [
    "data.head()"
   ]
  },
  {
   "cell_type": "code",
   "execution_count": null,
   "metadata": {},
   "outputs": [],
   "source": [
    "data['flight_date'] = pd.to_datetime(data['flight_date'])"
   ]
  },
  {
   "cell_type": "code",
   "execution_count": null,
   "metadata": {},
   "outputs": [],
   "source": [
    "data['from'].value_counts()"
   ]
  },
  {
   "cell_type": "code",
   "execution_count": null,
   "metadata": {},
   "outputs": [],
   "source": [
    "\n",
    "def plot_time_serie(dest_from, dest_to):\n",
    "    fig = go.Figure()\n",
    "    for dest in dest_to:\n",
    "        filterd = data[(data['from']==dest_from) & (data['to']==dest)]\n",
    "        filterd.sort_values(by='flight_date', inplace=True)\n",
    "        #sns.lineplot(x=\"flight_date\", y=\"target\",data=filterd)\n",
    "        \n",
    "        fig.add_trace(go.Scatter(\n",
    "                       name=dest,\n",
    "                       mode=\"markers+lines\", x=filterd[\"flight_date\"], y=filterd[\"target\"],\n",
    "                       \n",
    "                     ))\n",
    "    fig.update_xaxes(showgrid=True, ticklabelmode=\"period\")\n",
    "    # update title \n",
    "    fig.update_layout(title_text=dest_from)\n",
    "    fig.show()\n",
    "\n",
    "    \n",
    "\n",
    "\n",
    "# test\n",
    "plot_time_serie('ORD',['LAX','DFW','LGA','BOS'])\n",
    "plot_time_serie('ATL',['DTW','DFW','LGA','BOS'])"
   ]
  },
  {
   "cell_type": "code",
   "execution_count": null,
   "metadata": {},
   "outputs": [],
   "source": [
    "grouped_data = data.groupby(by=['from','to'],).count()\n"
   ]
  },
  {
   "cell_type": "code",
   "execution_count": null,
   "metadata": {},
   "outputs": [],
   "source": [
    "# some data exploration \n",
    "# link graph \n",
    "\n",
    "from pyvis.network import Network\n",
    "import pandas as pd\n",
    "\n",
    "got_net = Network(height='750px', width='100%', bgcolor='#222222', font_color='white')\n",
    "\n",
    "\n",
    "\n",
    "\n",
    "\n",
    "edge_data = zip(grouped_data.index.values , grouped_data['flight_date'])\n",
    "\n",
    "for e in edge_data:\n",
    "    src,dst = e[0]\n",
    "    w = e[1]\n",
    "\n",
    "    got_net.add_node(src, src, title=src)\n",
    "    got_net.add_node(dst, dst, title=dst)\n",
    "    got_net.add_edge(src, dst)\n",
    "\n",
    "neighbor_map = got_net.get_adj_list()\n",
    "\n",
    "# add neighbor data to node hover data\n",
    "for node in got_net.nodes:\n",
    "    node['title'] += ' Neighbors:<br>' + '<br>'.join(neighbor_map[node['id']])\n",
    "    node['value'] = len(neighbor_map[node['id']])\n",
    "got_net.show_buttons(filter_=['physics','edges'])\n",
    "got_net.show('../renders/airports.html')\n"
   ]
  },
  {
   "cell_type": "code",
   "execution_count": null,
   "metadata": {},
   "outputs": [],
   "source": []
  }
 ],
 "metadata": {
  "interpreter": {
   "hash": "949777d72b0d2535278d3dc13498b2535136f6dfe0678499012e853ee9abcab1"
  },
  "kernelspec": {
   "display_name": "Python 3.7.6 64-bit",
   "language": "python",
   "name": "python3"
  },
  "language_info": {
   "codemirror_mode": {
    "name": "ipython",
    "version": 3
   },
   "file_extension": ".py",
   "mimetype": "text/x-python",
   "name": "python",
   "nbconvert_exporter": "python",
   "pygments_lexer": "ipython3",
   "version": "3.7.6"
  },
  "orig_nbformat": 4
 },
 "nbformat": 4,
 "nbformat_minor": 2
}

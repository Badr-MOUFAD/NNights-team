{
 "cells": [
  {
   "cell_type": "code",
   "execution_count": null,
   "metadata": {},
   "outputs": [],
   "source": [
    "# change current directory to the project directory\n",
    "import os\n",
    "\n",
    "# change directory\n",
    "os.chdir(\"../\")\n",
    "\n",
    "# print current directory\n",
    "os.getcwd()"
   ]
  },
  {
   "cell_type": "code",
   "execution_count": null,
   "metadata": {},
   "outputs": [],
   "source": [
    "# imports\n",
    "import numpy as np\n",
    "import pandas as pd\n",
    "\n",
    "import plotly.express as px\n",
    "import plotly.graph_objects as go"
   ]
  },
  {
   "cell_type": "code",
   "execution_count": null,
   "metadata": {},
   "outputs": [],
   "source": [
    "# load data\n",
    "flights = pd.read_csv(\n",
    "    \"data/flights_train.csv\",\n",
    "    parse_dates=[\"flight_date\"]\n",
    ")\n",
    "\n",
    "flights.sort_values(\n",
    "    by=[\"flight_date\"],\n",
    "    inplace=True\n",
    ")"
   ]
  },
  {
   "cell_type": "code",
   "execution_count": null,
   "metadata": {},
   "outputs": [],
   "source": [
    "flights.info()"
   ]
  },
  {
   "cell_type": "code",
   "execution_count": null,
   "metadata": {},
   "outputs": [],
   "source": [
    "# summary about flight_date\n",
    "flights[\"flight_date\"].describe()"
   ]
  },
  {
   "cell_type": "code",
   "execution_count": null,
   "metadata": {},
   "outputs": [],
   "source": [
    "# summary of continuous vars\n",
    "continuous_cols = [\"avg_weeks\", \"std_weeks\", \"target\"]\n",
    "\n",
    "flights[continuous_cols].describe()"
   ]
  },
  {
   "cell_type": "code",
   "execution_count": null,
   "metadata": {},
   "outputs": [],
   "source": [
    "# box plot of continuous\n",
    "fig = go.Figure(\n",
    "    data=[\n",
    "        go.Box(\n",
    "            x=flights[col],\n",
    "            name=col\n",
    "        )\n",
    "    for col in continuous_cols]\n",
    ")\n",
    "\n",
    "fig.update_layout(\n",
    "    title=\"Box plot of continuous cols\",\n",
    "    yaxis_title=\"value\"\n",
    ")\n",
    "\n",
    "fig.show()\n",
    "fig.write_html(\"renders/boxplot-continuous-vars.html\")"
   ]
  },
  {
   "cell_type": "code",
   "execution_count": null,
   "metadata": {},
   "outputs": [],
   "source": [
    "# summary of categorical vars\n",
    "count_in = flights[\"to\"].value_counts().sort_index()\n",
    "count_out = flights[\"from\"].value_counts().sort_index()\n",
    "\n",
    "fig = go.Figure(\n",
    "    data=[\n",
    "        go.Bar(\n",
    "            x=count_in.index,\n",
    "            y=count_in.values,\n",
    "            name=\"in traffic\"\n",
    "        ),\n",
    "        go.Bar(\n",
    "            x=count_out.index,\n",
    "            y=count_out.values,\n",
    "            name=\"out traffic\"\n",
    "        ),\n",
    "    ]\n",
    ")\n",
    "\n",
    "fig.update_layout(\n",
    "    title=\"Traffic of locations\",\n",
    "    xaxis_title=\"location\",\n",
    "    yaxis_title=\"count\"\n",
    ")\n",
    "\n",
    "fig.show()\n",
    "fig.write_html(\"renders/traffic-airport.html\")"
   ]
  },
  {
   "cell_type": "code",
   "execution_count": null,
   "metadata": {},
   "outputs": [],
   "source": [
    "# exploration of target\n",
    "fig = px.histogram(\n",
    "    flights,\n",
    "    x=\"target\",\n",
    "    histnorm='probability density'\n",
    ")\n",
    "\n",
    "fig.update_layout(\n",
    "    title=\"Histogram of target\"\n",
    ")\n",
    "\n",
    "fig.show()"
   ]
  },
  {
   "cell_type": "code",
   "execution_count": null,
   "metadata": {},
   "outputs": [],
   "source": [
    "# scatter matrix of continuous vars\n",
    "\n",
    "fig = px.scatter_matrix(\n",
    "    flights[continuous_cols]\n",
    ")\n",
    "\n",
    "fig.show()"
   ]
  },
  {
   "cell_type": "code",
   "execution_count": null,
   "metadata": {},
   "outputs": [],
   "source": [
    "fig = px.scatter(\n",
    "    flights,\n",
    "    x=\"avg_weeks\",\n",
    "    y=\"target\",\n",
    "    color=\"from\",\n",
    ")\n",
    "\n",
    "fig.update_layout(\n",
    "    yaxis_range=[5, 15]\n",
    ")\n",
    "\n",
    "fig.show()"
   ]
  },
  {
   "cell_type": "code",
   "execution_count": null,
   "metadata": {},
   "outputs": [],
   "source": [
    "# exploration of time \n",
    "\n",
    "fig = px.line(\n",
    "    flights,\n",
    "    x=\"flight_date\",\n",
    "    y=\"target\",\n",
    "    color=\"from\"\n",
    ")\n",
    "\n",
    "fig.show()"
   ]
  }
 ],
 "metadata": {
  "interpreter": {
   "hash": "1e915f0a29dc84041eaeb02b7b1a21c440e37a87b61d44d5e84a515737dc82bc"
  },
  "kernelspec": {
   "display_name": "Python 3.8.5 64-bit ('base': conda)",
   "name": "python3"
  },
  "language_info": {
   "codemirror_mode": {
    "name": "ipython",
    "version": 3
   },
   "file_extension": ".py",
   "mimetype": "text/x-python",
   "name": "python",
   "nbconvert_exporter": "python",
   "pygments_lexer": "ipython3",
   "version": "3.8.5"
  },
  "orig_nbformat": 4
 },
 "nbformat": 4,
 "nbformat_minor": 2
}

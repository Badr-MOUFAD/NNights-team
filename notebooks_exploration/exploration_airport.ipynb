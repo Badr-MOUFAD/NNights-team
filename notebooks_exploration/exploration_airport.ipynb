{
 "cells": [
  {
   "cell_type": "code",
   "execution_count": null,
   "metadata": {},
   "outputs": [],
   "source": [
    "import os\n",
    "\n",
    "os.chdir(\"../\")\n",
    "os.getcwd()"
   ]
  },
  {
   "cell_type": "code",
   "execution_count": null,
   "metadata": {},
   "outputs": [],
   "source": [
    "# imports\n",
    "import pandas as pd\n",
    "import plotly.express as px"
   ]
  },
  {
   "cell_type": "code",
   "execution_count": null,
   "metadata": {},
   "outputs": [],
   "source": [
    "# load data\n",
    "airports = pd.read_csv(\"data/airports_spatial.csv\")\n",
    "\n",
    "airports.set_index(\n",
    "    \"iata_code\",\n",
    "    inplace=True\n",
    ")"
   ]
  },
  {
   "cell_type": "code",
   "execution_count": null,
   "metadata": {},
   "outputs": [],
   "source": [
    "airports"
   ]
  },
  {
   "cell_type": "code",
   "execution_count": null,
   "metadata": {},
   "outputs": [],
   "source": [
    "fig = px.scatter_geo(\n",
    "    airports,\n",
    "    lat=\"latitude\",\n",
    "    lon=\"longitude\",\n",
    "    hover_name=\"municipality\"\n",
    ")\n",
    "\n",
    "fig.update_geos(\n",
    "    scope=\"north america\",\n",
    ")\n",
    "\n",
    "fig.show()"
   ]
  },
  {
   "cell_type": "code",
   "execution_count": null,
   "metadata": {},
   "outputs": [],
   "source": [
    "# load data\n",
    "flights = pd.read_csv(\n",
    "    \"data/flights_train.csv\",\n",
    "    parse_dates=[\"flight_date\"]\n",
    ")\n",
    "\n",
    "flights.sort_values(\n",
    "    by=[\"flight_date\"],\n",
    "    inplace=True\n",
    ")"
   ]
  },
  {
   "cell_type": "code",
   "execution_count": null,
   "metadata": {},
   "outputs": [],
   "source": [
    "airports_traffic = flights.groupby(\n",
    "    by=['from','to']\n",
    "    ).count()"
   ]
  },
  {
   "cell_type": "code",
   "execution_count": null,
   "metadata": {},
   "outputs": [],
   "source": [
    "max_traffic = airports_traffic[\"target\"].max()"
   ]
  },
  {
   "cell_type": "code",
   "execution_count": null,
   "metadata": {},
   "outputs": [],
   "source": [
    "airports_traffic[\"target\"].min()"
   ]
  },
  {
   "cell_type": "code",
   "execution_count": null,
   "metadata": {},
   "outputs": [],
   "source": [
    "import plotly.graph_objects as go\n",
    "\n",
    "fig = go.Figure()\n",
    "\n",
    "# plot airports\n",
    "fig.add_trace(\n",
    "    go.Scattergeo(\n",
    "        lat=airports[\"latitude\"],\n",
    "        lon=airports[\"longitude\"],\n",
    "        text=airports.index,\n",
    "        mode=\"markers\",\n",
    "        marker=dict(\n",
    "            size=10\n",
    "        )\n",
    "    )\n",
    ")\n",
    "\n",
    "\n",
    "for source_destination, traffic in zip(airports_traffic.index.values, airports_traffic[\"target\"].values):\n",
    "    # explode\n",
    "    source, destination = source_destination\n",
    "\n",
    "    fig.add_trace(\n",
    "        go.Scattergeo(\n",
    "            lat=[\n",
    "                airports.loc[source, \"latitude\"],\n",
    "                airports.loc[destination, \"latitude\"]\n",
    "            ],\n",
    "            lon=[\n",
    "                airports.loc[source, \"longitude\"],\n",
    "                airports.loc[destination, \"longitude\"]\n",
    "            ],\n",
    "            mode=\"lines\",\n",
    "            line=dict(width=1, color='#EF553B'),\n",
    "            opacity=traffic / 100,\n",
    "        )\n",
    "    )\n",
    "\n",
    "\n",
    "fig.update_layout(\n",
    "    title_text='Airports traffic',\n",
    "    showlegend=False,\n",
    "    geo=dict(\n",
    "        scope='north america',\n",
    "        projection_type='azimuthal equal area',\n",
    "        showland=True,\n",
    "        landcolor = 'rgb(243, 243, 243)',\n",
    "        countrycolor = 'rgb(204, 204, 204)',\n",
    "    ),\n",
    ")\n",
    "\n",
    "fig.show(renderer=\"notebook\")\n",
    "# fig.write_html(\"renders/map-airports.html\")"
   ]
  },
  {
   "cell_type": "code",
   "execution_count": null,
   "metadata": {},
   "outputs": [],
   "source": [
    "list(zip(airports_traffic.index.values, airports_traffic[\"target\"].values))"
   ]
  }
 ],
 "metadata": {
  "interpreter": {
   "hash": "1e915f0a29dc84041eaeb02b7b1a21c440e37a87b61d44d5e84a515737dc82bc"
  },
  "kernelspec": {
   "display_name": "Python 3.8.5 64-bit ('base': conda)",
   "language": "python",
   "name": "python3"
  },
  "language_info": {
   "codemirror_mode": {
    "name": "ipython",
    "version": 3
   },
   "file_extension": ".py",
   "mimetype": "text/x-python",
   "name": "python",
   "nbconvert_exporter": "python",
   "pygments_lexer": "ipython3",
   "version": "3.8.5"
  },
  "orig_nbformat": 4
 },
 "nbformat": 4,
 "nbformat_minor": 2
}

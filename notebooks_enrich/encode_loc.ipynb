{
 "cells": [
  {
   "cell_type": "code",
   "execution_count": 1,
   "metadata": {},
   "outputs": [
    {
     "data": {
      "text/plain": [
       "'c:\\\\Users\\\\HP\\\\Desktop\\\\flight-comptetion\\\\NNights-team'"
      ]
     },
     "execution_count": 1,
     "metadata": {},
     "output_type": "execute_result"
    }
   ],
   "source": [
    "import os\n",
    "\n",
    "os.chdir(\"../\")\n",
    "os.getcwd()"
   ]
  },
  {
   "cell_type": "code",
   "execution_count": 2,
   "metadata": {},
   "outputs": [],
   "source": [
    "# imports\n",
    "import numpy as np\n",
    "import pandas as pd"
   ]
  },
  {
   "cell_type": "code",
   "execution_count": 3,
   "metadata": {},
   "outputs": [],
   "source": [
    "# load flight data\n",
    "flights = pd.read_csv(\n",
    "    \"data/flights_train.csv\",\n",
    "    parse_dates=[\"flight_date\"]\n",
    ")\n",
    "\n",
    "flights.sort_values(\n",
    "    by=[\"flight_date\"],\n",
    "    inplace=True\n",
    ")"
   ]
  },
  {
   "cell_type": "code",
   "execution_count": 4,
   "metadata": {},
   "outputs": [
    {
     "data": {
      "text/plain": [
       "Index(['flight_date', 'from', 'to', 'avg_weeks', 'target', 'std_weeks'], dtype='object')"
      ]
     },
     "execution_count": 4,
     "metadata": {},
     "output_type": "execute_result"
    }
   ],
   "source": [
    "flights.columns"
   ]
  },
  {
   "cell_type": "code",
   "execution_count": 5,
   "metadata": {},
   "outputs": [],
   "source": [
    "# get all airports\n",
    "source_airports = flights[\"from\"].unique()\n",
    "target_airports = flights[\"to\"].unique()\n",
    "\n",
    "all_airports = np.union1d(source_airports, target_airports)"
   ]
  },
  {
   "cell_type": "code",
   "execution_count": 6,
   "metadata": {},
   "outputs": [
    {
     "data": {
      "text/plain": [
       "array(['ATL', 'BOS', 'CLT', 'DEN', 'DFW', 'DTW', 'EWR', 'IAH', 'JFK',\n",
       "       'LAS', 'LAX', 'LGA', 'MCO', 'MIA', 'MSP', 'ORD', 'PHL', 'PHX',\n",
       "       'SEA', 'SFO'], dtype=object)"
      ]
     },
     "execution_count": 6,
     "metadata": {},
     "output_type": "execute_result"
    }
   ],
   "source": [
    "all_airports"
   ]
  },
  {
   "cell_type": "code",
   "execution_count": 7,
   "metadata": {},
   "outputs": [],
   "source": [
    "# build dict of encodings\n",
    "dict_airports_encodings = {\n",
    "    airport: i for i, airport in enumerate(all_airports)\n",
    "}"
   ]
  },
  {
   "cell_type": "code",
   "execution_count": 8,
   "metadata": {},
   "outputs": [
    {
     "data": {
      "text/plain": [
       "{'ATL': 0,\n",
       " 'BOS': 1,\n",
       " 'CLT': 2,\n",
       " 'DEN': 3,\n",
       " 'DFW': 4,\n",
       " 'DTW': 5,\n",
       " 'EWR': 6,\n",
       " 'IAH': 7,\n",
       " 'JFK': 8,\n",
       " 'LAS': 9,\n",
       " 'LAX': 10,\n",
       " 'LGA': 11,\n",
       " 'MCO': 12,\n",
       " 'MIA': 13,\n",
       " 'MSP': 14,\n",
       " 'ORD': 15,\n",
       " 'PHL': 16,\n",
       " 'PHX': 17,\n",
       " 'SEA': 18,\n",
       " 'SFO': 19}"
      ]
     },
     "execution_count": 8,
     "metadata": {},
     "output_type": "execute_result"
    }
   ],
   "source": [
    "dict_airports_encodings"
   ]
  },
  {
   "cell_type": "code",
   "execution_count": 9,
   "metadata": {},
   "outputs": [
    {
     "data": {
      "text/plain": [
       "['from_enc', 'to_enc']"
      ]
     },
     "execution_count": 9,
     "metadata": {},
     "output_type": "execute_result"
    }
   ],
   "source": [
    "from nnights.enrich_jobs import encode_loc\n",
    "\n",
    "encode_loc(flights)"
   ]
  },
  {
   "cell_type": "code",
   "execution_count": 10,
   "metadata": {},
   "outputs": [
    {
     "data": {
      "text/html": [
       "<div>\n",
       "<style scoped>\n",
       "    .dataframe tbody tr th:only-of-type {\n",
       "        vertical-align: middle;\n",
       "    }\n",
       "\n",
       "    .dataframe tbody tr th {\n",
       "        vertical-align: top;\n",
       "    }\n",
       "\n",
       "    .dataframe thead th {\n",
       "        text-align: right;\n",
       "    }\n",
       "</style>\n",
       "<table border=\"1\" class=\"dataframe\">\n",
       "  <thead>\n",
       "    <tr style=\"text-align: right;\">\n",
       "      <th></th>\n",
       "      <th>flight_date</th>\n",
       "      <th>from</th>\n",
       "      <th>to</th>\n",
       "      <th>avg_weeks</th>\n",
       "      <th>target</th>\n",
       "      <th>std_weeks</th>\n",
       "      <th>from_enc</th>\n",
       "      <th>to_enc</th>\n",
       "    </tr>\n",
       "  </thead>\n",
       "  <tbody>\n",
       "    <tr>\n",
       "      <th>642</th>\n",
       "      <td>2011-09-01</td>\n",
       "      <td>DTW</td>\n",
       "      <td>ORD</td>\n",
       "      <td>9.055556</td>\n",
       "      <td>11.251560</td>\n",
       "      <td>6.053412</td>\n",
       "      <td>5</td>\n",
       "      <td>15</td>\n",
       "    </tr>\n",
       "    <tr>\n",
       "      <th>882</th>\n",
       "      <td>2011-09-01</td>\n",
       "      <td>ORD</td>\n",
       "      <td>DEN</td>\n",
       "      <td>12.000000</td>\n",
       "      <td>11.426462</td>\n",
       "      <td>8.129632</td>\n",
       "      <td>15</td>\n",
       "      <td>3</td>\n",
       "    </tr>\n",
       "    <tr>\n",
       "      <th>8252</th>\n",
       "      <td>2011-09-01</td>\n",
       "      <td>EWR</td>\n",
       "      <td>BOS</td>\n",
       "      <td>11.350000</td>\n",
       "      <td>11.159896</td>\n",
       "      <td>8.330508</td>\n",
       "      <td>6</td>\n",
       "      <td>1</td>\n",
       "    </tr>\n",
       "    <tr>\n",
       "      <th>2532</th>\n",
       "      <td>2011-09-01</td>\n",
       "      <td>SFO</td>\n",
       "      <td>DFW</td>\n",
       "      <td>11.454545</td>\n",
       "      <td>11.321779</td>\n",
       "      <td>7.920602</td>\n",
       "      <td>19</td>\n",
       "      <td>4</td>\n",
       "    </tr>\n",
       "    <tr>\n",
       "      <th>6844</th>\n",
       "      <td>2011-09-01</td>\n",
       "      <td>DEN</td>\n",
       "      <td>LAX</td>\n",
       "      <td>12.607143</td>\n",
       "      <td>11.634324</td>\n",
       "      <td>8.288052</td>\n",
       "      <td>3</td>\n",
       "      <td>10</td>\n",
       "    </tr>\n",
       "    <tr>\n",
       "      <th>...</th>\n",
       "      <td>...</td>\n",
       "      <td>...</td>\n",
       "      <td>...</td>\n",
       "      <td>...</td>\n",
       "      <td>...</td>\n",
       "      <td>...</td>\n",
       "      <td>...</td>\n",
       "      <td>...</td>\n",
       "    </tr>\n",
       "    <tr>\n",
       "      <th>3997</th>\n",
       "      <td>2012-11-14</td>\n",
       "      <td>DTW</td>\n",
       "      <td>ATL</td>\n",
       "      <td>9.166667</td>\n",
       "      <td>10.982615</td>\n",
       "      <td>6.252058</td>\n",
       "      <td>5</td>\n",
       "      <td>0</td>\n",
       "    </tr>\n",
       "    <tr>\n",
       "      <th>5570</th>\n",
       "      <td>2012-11-14</td>\n",
       "      <td>LGA</td>\n",
       "      <td>DFW</td>\n",
       "      <td>8.055556</td>\n",
       "      <td>12.155299</td>\n",
       "      <td>6.121055</td>\n",
       "      <td>11</td>\n",
       "      <td>4</td>\n",
       "    </tr>\n",
       "    <tr>\n",
       "      <th>1781</th>\n",
       "      <td>2012-11-14</td>\n",
       "      <td>BOS</td>\n",
       "      <td>LAX</td>\n",
       "      <td>11.111111</td>\n",
       "      <td>10.680432</td>\n",
       "      <td>9.272914</td>\n",
       "      <td>1</td>\n",
       "      <td>10</td>\n",
       "    </tr>\n",
       "    <tr>\n",
       "      <th>5175</th>\n",
       "      <td>2012-11-14</td>\n",
       "      <td>DEN</td>\n",
       "      <td>LAS</td>\n",
       "      <td>12.680000</td>\n",
       "      <td>10.554797</td>\n",
       "      <td>10.278294</td>\n",
       "      <td>3</td>\n",
       "      <td>9</td>\n",
       "    </tr>\n",
       "    <tr>\n",
       "      <th>4076</th>\n",
       "      <td>2012-11-14</td>\n",
       "      <td>ORD</td>\n",
       "      <td>IAH</td>\n",
       "      <td>9.526316</td>\n",
       "      <td>10.951357</td>\n",
       "      <td>6.653056</td>\n",
       "      <td>15</td>\n",
       "      <td>7</td>\n",
       "    </tr>\n",
       "  </tbody>\n",
       "</table>\n",
       "<p>8896 rows × 8 columns</p>\n",
       "</div>"
      ],
      "text/plain": [
       "     flight_date from   to  avg_weeks     target  std_weeks  from_enc  to_enc\n",
       "642   2011-09-01  DTW  ORD   9.055556  11.251560   6.053412         5      15\n",
       "882   2011-09-01  ORD  DEN  12.000000  11.426462   8.129632        15       3\n",
       "8252  2011-09-01  EWR  BOS  11.350000  11.159896   8.330508         6       1\n",
       "2532  2011-09-01  SFO  DFW  11.454545  11.321779   7.920602        19       4\n",
       "6844  2011-09-01  DEN  LAX  12.607143  11.634324   8.288052         3      10\n",
       "...          ...  ...  ...        ...        ...        ...       ...     ...\n",
       "3997  2012-11-14  DTW  ATL   9.166667  10.982615   6.252058         5       0\n",
       "5570  2012-11-14  LGA  DFW   8.055556  12.155299   6.121055        11       4\n",
       "1781  2012-11-14  BOS  LAX  11.111111  10.680432   9.272914         1      10\n",
       "5175  2012-11-14  DEN  LAS  12.680000  10.554797  10.278294         3       9\n",
       "4076  2012-11-14  ORD  IAH   9.526316  10.951357   6.653056        15       7\n",
       "\n",
       "[8896 rows x 8 columns]"
      ]
     },
     "execution_count": 10,
     "metadata": {},
     "output_type": "execute_result"
    }
   ],
   "source": [
    "flights"
   ]
  }
 ],
 "metadata": {
  "interpreter": {
   "hash": "1e915f0a29dc84041eaeb02b7b1a21c440e37a87b61d44d5e84a515737dc82bc"
  },
  "kernelspec": {
   "display_name": "Python 3.8.5 64-bit ('base': conda)",
   "language": "python",
   "name": "python3"
  },
  "language_info": {
   "codemirror_mode": {
    "name": "ipython",
    "version": 3
   },
   "file_extension": ".py",
   "mimetype": "text/x-python",
   "name": "python",
   "nbconvert_exporter": "python",
   "pygments_lexer": "ipython3",
   "version": "3.8.5"
  },
  "orig_nbformat": 4
 },
 "nbformat": 4,
 "nbformat_minor": 2
}

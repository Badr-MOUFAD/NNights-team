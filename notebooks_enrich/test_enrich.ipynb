{
 "cells": [
  {
   "cell_type": "code",
   "execution_count": 1,
   "metadata": {},
   "outputs": [
    {
     "data": {
      "text/plain": [
       "'c:\\\\Users\\\\HP\\\\Desktop\\\\flight-comptetion\\\\NNights-team'"
      ]
     },
     "execution_count": 1,
     "metadata": {},
     "output_type": "execute_result"
    }
   ],
   "source": [
    "import os\n",
    "\n",
    "os.chdir(\"../\")\n",
    "os.getcwd()"
   ]
  },
  {
   "cell_type": "code",
   "execution_count": 2,
   "metadata": {},
   "outputs": [],
   "source": [
    "# imports\n",
    "import pandas as pd\n",
    "from nnights.enrich_jobs import dict_enrich\n"
   ]
  },
  {
   "cell_type": "code",
   "execution_count": 3,
   "metadata": {},
   "outputs": [],
   "source": [
    "# load flight\n",
    "# load data\n",
    "flights = pd.read_csv(\n",
    "    \"data/flights_train.csv\",\n",
    "    parse_dates=[\"flight_date\"]\n",
    ")\n",
    "\n",
    "flights.sort_values(\n",
    "    by=[\"flight_date\"],\n",
    "    inplace=True\n",
    ")"
   ]
  },
  {
   "cell_type": "code",
   "execution_count": 4,
   "metadata": {},
   "outputs": [
    {
     "data": {
      "text/plain": [
       "['is_holiday']"
      ]
     },
     "execution_count": 4,
     "metadata": {},
     "output_type": "execute_result"
    }
   ],
   "source": [
    "dict_enrich[\"add_is_holiday\"](flights)"
   ]
  },
  {
   "cell_type": "code",
   "execution_count": 4,
   "metadata": {},
   "outputs": [
    {
     "data": {
      "text/html": [
       "<div>\n",
       "<style scoped>\n",
       "    .dataframe tbody tr th:only-of-type {\n",
       "        vertical-align: middle;\n",
       "    }\n",
       "\n",
       "    .dataframe tbody tr th {\n",
       "        vertical-align: top;\n",
       "    }\n",
       "\n",
       "    .dataframe thead th {\n",
       "        text-align: right;\n",
       "    }\n",
       "</style>\n",
       "<table border=\"1\" class=\"dataframe\">\n",
       "  <thead>\n",
       "    <tr style=\"text-align: right;\">\n",
       "      <th></th>\n",
       "      <th>flight_date</th>\n",
       "      <th>from</th>\n",
       "      <th>to</th>\n",
       "      <th>avg_weeks</th>\n",
       "      <th>target</th>\n",
       "      <th>std_weeks</th>\n",
       "    </tr>\n",
       "  </thead>\n",
       "  <tbody>\n",
       "    <tr>\n",
       "      <th>642</th>\n",
       "      <td>2011-09-01</td>\n",
       "      <td>DTW</td>\n",
       "      <td>ORD</td>\n",
       "      <td>9.055556</td>\n",
       "      <td>11.251560</td>\n",
       "      <td>6.053412</td>\n",
       "    </tr>\n",
       "    <tr>\n",
       "      <th>882</th>\n",
       "      <td>2011-09-01</td>\n",
       "      <td>ORD</td>\n",
       "      <td>DEN</td>\n",
       "      <td>12.000000</td>\n",
       "      <td>11.426462</td>\n",
       "      <td>8.129632</td>\n",
       "    </tr>\n",
       "    <tr>\n",
       "      <th>8252</th>\n",
       "      <td>2011-09-01</td>\n",
       "      <td>EWR</td>\n",
       "      <td>BOS</td>\n",
       "      <td>11.350000</td>\n",
       "      <td>11.159896</td>\n",
       "      <td>8.330508</td>\n",
       "    </tr>\n",
       "    <tr>\n",
       "      <th>2532</th>\n",
       "      <td>2011-09-01</td>\n",
       "      <td>SFO</td>\n",
       "      <td>DFW</td>\n",
       "      <td>11.454545</td>\n",
       "      <td>11.321779</td>\n",
       "      <td>7.920602</td>\n",
       "    </tr>\n",
       "    <tr>\n",
       "      <th>6844</th>\n",
       "      <td>2011-09-01</td>\n",
       "      <td>DEN</td>\n",
       "      <td>LAX</td>\n",
       "      <td>12.607143</td>\n",
       "      <td>11.634324</td>\n",
       "      <td>8.288052</td>\n",
       "    </tr>\n",
       "    <tr>\n",
       "      <th>...</th>\n",
       "      <td>...</td>\n",
       "      <td>...</td>\n",
       "      <td>...</td>\n",
       "      <td>...</td>\n",
       "      <td>...</td>\n",
       "      <td>...</td>\n",
       "    </tr>\n",
       "    <tr>\n",
       "      <th>3997</th>\n",
       "      <td>2012-11-14</td>\n",
       "      <td>DTW</td>\n",
       "      <td>ATL</td>\n",
       "      <td>9.166667</td>\n",
       "      <td>10.982615</td>\n",
       "      <td>6.252058</td>\n",
       "    </tr>\n",
       "    <tr>\n",
       "      <th>5570</th>\n",
       "      <td>2012-11-14</td>\n",
       "      <td>LGA</td>\n",
       "      <td>DFW</td>\n",
       "      <td>8.055556</td>\n",
       "      <td>12.155299</td>\n",
       "      <td>6.121055</td>\n",
       "    </tr>\n",
       "    <tr>\n",
       "      <th>1781</th>\n",
       "      <td>2012-11-14</td>\n",
       "      <td>BOS</td>\n",
       "      <td>LAX</td>\n",
       "      <td>11.111111</td>\n",
       "      <td>10.680432</td>\n",
       "      <td>9.272914</td>\n",
       "    </tr>\n",
       "    <tr>\n",
       "      <th>5175</th>\n",
       "      <td>2012-11-14</td>\n",
       "      <td>DEN</td>\n",
       "      <td>LAS</td>\n",
       "      <td>12.680000</td>\n",
       "      <td>10.554797</td>\n",
       "      <td>10.278294</td>\n",
       "    </tr>\n",
       "    <tr>\n",
       "      <th>4076</th>\n",
       "      <td>2012-11-14</td>\n",
       "      <td>ORD</td>\n",
       "      <td>IAH</td>\n",
       "      <td>9.526316</td>\n",
       "      <td>10.951357</td>\n",
       "      <td>6.653056</td>\n",
       "    </tr>\n",
       "  </tbody>\n",
       "</table>\n",
       "<p>8896 rows × 6 columns</p>\n",
       "</div>"
      ],
      "text/plain": [
       "     flight_date from   to  avg_weeks     target  std_weeks\n",
       "642   2011-09-01  DTW  ORD   9.055556  11.251560   6.053412\n",
       "882   2011-09-01  ORD  DEN  12.000000  11.426462   8.129632\n",
       "8252  2011-09-01  EWR  BOS  11.350000  11.159896   8.330508\n",
       "2532  2011-09-01  SFO  DFW  11.454545  11.321779   7.920602\n",
       "6844  2011-09-01  DEN  LAX  12.607143  11.634324   8.288052\n",
       "...          ...  ...  ...        ...        ...        ...\n",
       "3997  2012-11-14  DTW  ATL   9.166667  10.982615   6.252058\n",
       "5570  2012-11-14  LGA  DFW   8.055556  12.155299   6.121055\n",
       "1781  2012-11-14  BOS  LAX  11.111111  10.680432   9.272914\n",
       "5175  2012-11-14  DEN  LAS  12.680000  10.554797  10.278294\n",
       "4076  2012-11-14  ORD  IAH   9.526316  10.951357   6.653056\n",
       "\n",
       "[8896 rows x 6 columns]"
      ]
     },
     "execution_count": 4,
     "metadata": {},
     "output_type": "execute_result"
    }
   ],
   "source": [
    "flights"
   ]
  },
  {
   "cell_type": "code",
   "execution_count": 7,
   "metadata": {},
   "outputs": [
    {
     "data": {
      "text/plain": [
       "['distance_to_next_holiday']"
      ]
     },
     "execution_count": 7,
     "metadata": {},
     "output_type": "execute_result"
    }
   ],
   "source": [
    "dict_enrich[\"add_distance_to_next_holiday\"](flights)"
   ]
  },
  {
   "cell_type": "code",
   "execution_count": 8,
   "metadata": {},
   "outputs": [
    {
     "data": {
      "text/html": [
       "<div>\n",
       "<style scoped>\n",
       "    .dataframe tbody tr th:only-of-type {\n",
       "        vertical-align: middle;\n",
       "    }\n",
       "\n",
       "    .dataframe tbody tr th {\n",
       "        vertical-align: top;\n",
       "    }\n",
       "\n",
       "    .dataframe thead th {\n",
       "        text-align: right;\n",
       "    }\n",
       "</style>\n",
       "<table border=\"1\" class=\"dataframe\">\n",
       "  <thead>\n",
       "    <tr style=\"text-align: right;\">\n",
       "      <th></th>\n",
       "      <th>flight_date</th>\n",
       "      <th>from</th>\n",
       "      <th>to</th>\n",
       "      <th>avg_weeks</th>\n",
       "      <th>target</th>\n",
       "      <th>std_weeks</th>\n",
       "      <th>is_holiday</th>\n",
       "      <th>distance_to_next_holiday</th>\n",
       "    </tr>\n",
       "  </thead>\n",
       "  <tbody>\n",
       "    <tr>\n",
       "      <th>642</th>\n",
       "      <td>2011-09-01</td>\n",
       "      <td>DTW</td>\n",
       "      <td>ORD</td>\n",
       "      <td>9.055556</td>\n",
       "      <td>11.251560</td>\n",
       "      <td>6.053412</td>\n",
       "      <td>True</td>\n",
       "      <td>0</td>\n",
       "    </tr>\n",
       "    <tr>\n",
       "      <th>882</th>\n",
       "      <td>2011-09-01</td>\n",
       "      <td>ORD</td>\n",
       "      <td>DEN</td>\n",
       "      <td>12.000000</td>\n",
       "      <td>11.426462</td>\n",
       "      <td>8.129632</td>\n",
       "      <td>True</td>\n",
       "      <td>0</td>\n",
       "    </tr>\n",
       "    <tr>\n",
       "      <th>8252</th>\n",
       "      <td>2011-09-01</td>\n",
       "      <td>EWR</td>\n",
       "      <td>BOS</td>\n",
       "      <td>11.350000</td>\n",
       "      <td>11.159896</td>\n",
       "      <td>8.330508</td>\n",
       "      <td>True</td>\n",
       "      <td>0</td>\n",
       "    </tr>\n",
       "    <tr>\n",
       "      <th>2532</th>\n",
       "      <td>2011-09-01</td>\n",
       "      <td>SFO</td>\n",
       "      <td>DFW</td>\n",
       "      <td>11.454545</td>\n",
       "      <td>11.321779</td>\n",
       "      <td>7.920602</td>\n",
       "      <td>True</td>\n",
       "      <td>0</td>\n",
       "    </tr>\n",
       "    <tr>\n",
       "      <th>6844</th>\n",
       "      <td>2011-09-01</td>\n",
       "      <td>DEN</td>\n",
       "      <td>LAX</td>\n",
       "      <td>12.607143</td>\n",
       "      <td>11.634324</td>\n",
       "      <td>8.288052</td>\n",
       "      <td>True</td>\n",
       "      <td>0</td>\n",
       "    </tr>\n",
       "    <tr>\n",
       "      <th>...</th>\n",
       "      <td>...</td>\n",
       "      <td>...</td>\n",
       "      <td>...</td>\n",
       "      <td>...</td>\n",
       "      <td>...</td>\n",
       "      <td>...</td>\n",
       "      <td>...</td>\n",
       "      <td>...</td>\n",
       "    </tr>\n",
       "    <tr>\n",
       "      <th>3997</th>\n",
       "      <td>2012-11-14</td>\n",
       "      <td>DTW</td>\n",
       "      <td>ATL</td>\n",
       "      <td>9.166667</td>\n",
       "      <td>10.982615</td>\n",
       "      <td>6.252058</td>\n",
       "      <td>False</td>\n",
       "      <td>8</td>\n",
       "    </tr>\n",
       "    <tr>\n",
       "      <th>5570</th>\n",
       "      <td>2012-11-14</td>\n",
       "      <td>LGA</td>\n",
       "      <td>DFW</td>\n",
       "      <td>8.055556</td>\n",
       "      <td>12.155299</td>\n",
       "      <td>6.121055</td>\n",
       "      <td>False</td>\n",
       "      <td>8</td>\n",
       "    </tr>\n",
       "    <tr>\n",
       "      <th>1781</th>\n",
       "      <td>2012-11-14</td>\n",
       "      <td>BOS</td>\n",
       "      <td>LAX</td>\n",
       "      <td>11.111111</td>\n",
       "      <td>10.680432</td>\n",
       "      <td>9.272914</td>\n",
       "      <td>False</td>\n",
       "      <td>8</td>\n",
       "    </tr>\n",
       "    <tr>\n",
       "      <th>5175</th>\n",
       "      <td>2012-11-14</td>\n",
       "      <td>DEN</td>\n",
       "      <td>LAS</td>\n",
       "      <td>12.680000</td>\n",
       "      <td>10.554797</td>\n",
       "      <td>10.278294</td>\n",
       "      <td>False</td>\n",
       "      <td>8</td>\n",
       "    </tr>\n",
       "    <tr>\n",
       "      <th>4076</th>\n",
       "      <td>2012-11-14</td>\n",
       "      <td>ORD</td>\n",
       "      <td>IAH</td>\n",
       "      <td>9.526316</td>\n",
       "      <td>10.951357</td>\n",
       "      <td>6.653056</td>\n",
       "      <td>False</td>\n",
       "      <td>8</td>\n",
       "    </tr>\n",
       "  </tbody>\n",
       "</table>\n",
       "<p>8896 rows × 8 columns</p>\n",
       "</div>"
      ],
      "text/plain": [
       "     flight_date from   to  avg_weeks     target  std_weeks  is_holiday  \\\n",
       "642   2011-09-01  DTW  ORD   9.055556  11.251560   6.053412        True   \n",
       "882   2011-09-01  ORD  DEN  12.000000  11.426462   8.129632        True   \n",
       "8252  2011-09-01  EWR  BOS  11.350000  11.159896   8.330508        True   \n",
       "2532  2011-09-01  SFO  DFW  11.454545  11.321779   7.920602        True   \n",
       "6844  2011-09-01  DEN  LAX  12.607143  11.634324   8.288052        True   \n",
       "...          ...  ...  ...        ...        ...        ...         ...   \n",
       "3997  2012-11-14  DTW  ATL   9.166667  10.982615   6.252058       False   \n",
       "5570  2012-11-14  LGA  DFW   8.055556  12.155299   6.121055       False   \n",
       "1781  2012-11-14  BOS  LAX  11.111111  10.680432   9.272914       False   \n",
       "5175  2012-11-14  DEN  LAS  12.680000  10.554797  10.278294       False   \n",
       "4076  2012-11-14  ORD  IAH   9.526316  10.951357   6.653056       False   \n",
       "\n",
       "      distance_to_next_holiday  \n",
       "642                          0  \n",
       "882                          0  \n",
       "8252                         0  \n",
       "2532                         0  \n",
       "6844                         0  \n",
       "...                        ...  \n",
       "3997                         8  \n",
       "5570                         8  \n",
       "1781                         8  \n",
       "5175                         8  \n",
       "4076                         8  \n",
       "\n",
       "[8896 rows x 8 columns]"
      ]
     },
     "execution_count": 8,
     "metadata": {},
     "output_type": "execute_result"
    }
   ],
   "source": [
    "flights"
   ]
  },
  {
   "cell_type": "code",
   "execution_count": 4,
   "metadata": {},
   "outputs": [
    {
     "data": {
      "text/plain": [
       "Index(['New Year's Day', 'Birthday of Martin Luther King, Jr.',\n",
       "       'Washington's Birthday', 'Memorial Day',\n",
       "       'Juneteenth National Independence Day', 'Independence Day', 'Labor Day',\n",
       "       'Columbus Day', 'Veterans Day', 'Thanksgiving Day', 'Christmas Day'],\n",
       "      dtype='object', name='name')"
      ]
     },
     "execution_count": 4,
     "metadata": {},
     "output_type": "execute_result"
    }
   ],
   "source": [
    "dict_enrich[\"add_distance_to_holidays\"](flights)"
   ]
  },
  {
   "cell_type": "code",
   "execution_count": 9,
   "metadata": {},
   "outputs": [
    {
     "data": {
      "text/plain": [
       "Index(['flight_date', 'from', 'to', 'avg_weeks', 'target', 'std_weeks',\n",
       "       'distance_to_New Year's Day',\n",
       "       'distance_to_Birthday of Martin Luther King, Jr.',\n",
       "       'distance_to_Washington's Birthday', 'distance_to_Memorial Day',\n",
       "       'distance_to_Juneteenth National Independence Day',\n",
       "       'distance_to_Independence Day', 'distance_to_Labor Day',\n",
       "       'distance_to_Columbus Day', 'distance_to_Veterans Day',\n",
       "       'distance_to_Thanksgiving Day', 'distance_to_Christmas Day'],\n",
       "      dtype='object')"
      ]
     },
     "execution_count": 9,
     "metadata": {},
     "output_type": "execute_result"
    }
   ],
   "source": [
    "flights.columns"
   ]
  },
  {
   "cell_type": "code",
   "execution_count": 6,
   "metadata": {},
   "outputs": [
    {
     "data": {
      "text/plain": [
       "2153823307376"
      ]
     },
     "execution_count": 6,
     "metadata": {},
     "output_type": "execute_result"
    }
   ],
   "source": [
    "id(flights)"
   ]
  }
 ],
 "metadata": {
  "interpreter": {
   "hash": "1e915f0a29dc84041eaeb02b7b1a21c440e37a87b61d44d5e84a515737dc82bc"
  },
  "kernelspec": {
   "display_name": "Python 3.8.5 64-bit ('base': conda)",
   "language": "python",
   "name": "python3"
  },
  "language_info": {
   "codemirror_mode": {
    "name": "ipython",
    "version": 3
   },
   "file_extension": ".py",
   "mimetype": "text/x-python",
   "name": "python",
   "nbconvert_exporter": "python",
   "pygments_lexer": "ipython3",
   "version": "3.8.5"
  },
  "orig_nbformat": 4
 },
 "nbformat": 4,
 "nbformat_minor": 2
}
